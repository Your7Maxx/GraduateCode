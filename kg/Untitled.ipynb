{
 "cells": [
  {
   "cell_type": "code",
   "execution_count": 10,
   "id": "bf61b308-d638-4bad-a053-7bebd6d80532",
   "metadata": {},
   "outputs": [
    {
     "name": "stdout",
     "output_type": "stream",
     "text": [
      "[]\n"
     ]
    },
    {
     "ename": "AttributeError",
     "evalue": "'list' object has no attribute 'is_directed'",
     "output_type": "error",
     "traceback": [
      "\u001b[0;31m---------------------------------------------------------------------------\u001b[0m",
      "\u001b[0;31mAttributeError\u001b[0m                            Traceback (most recent call last)",
      "Cell \u001b[0;32mIn[10], line 35\u001b[0m\n\u001b[1;32m     33\u001b[0m \u001b[38;5;28mprint\u001b[39m(edges)\n\u001b[1;32m     34\u001b[0m \u001b[38;5;66;03m# 使用community库中的Louvain算法执行社区检测\u001b[39;00m\n\u001b[0;32m---> 35\u001b[0m partition \u001b[38;5;241m=\u001b[39m \u001b[43mbest_partition\u001b[49m\u001b[43m(\u001b[49m\u001b[43medges\u001b[49m\u001b[43m,\u001b[49m\u001b[43m \u001b[49m\u001b[43mweight\u001b[49m\u001b[38;5;241;43m=\u001b[39;49m\u001b[38;5;124;43m\"\u001b[39;49m\u001b[38;5;124;43mweight\u001b[39;49m\u001b[38;5;124;43m\"\u001b[39;49m\u001b[43m)\u001b[49m\n\u001b[1;32m     37\u001b[0m \u001b[38;5;66;03m# 输出社区信息\u001b[39;00m\n\u001b[1;32m     38\u001b[0m \u001b[38;5;28mprint\u001b[39m(partition)\n",
      "File \u001b[0;32m/usr/local/lib/python3.10/dist-packages/community/community_louvain.py:249\u001b[0m, in \u001b[0;36mbest_partition\u001b[0;34m(graph, partition, weight, resolution, randomize, random_state)\u001b[0m\n\u001b[1;32m    163\u001b[0m \u001b[38;5;28;01mdef\u001b[39;00m \u001b[38;5;21mbest_partition\u001b[39m(graph,\n\u001b[1;32m    164\u001b[0m                    partition\u001b[38;5;241m=\u001b[39m\u001b[38;5;28;01mNone\u001b[39;00m,\n\u001b[1;32m    165\u001b[0m                    weight\u001b[38;5;241m=\u001b[39m\u001b[38;5;124m'\u001b[39m\u001b[38;5;124mweight\u001b[39m\u001b[38;5;124m'\u001b[39m,\n\u001b[1;32m    166\u001b[0m                    resolution\u001b[38;5;241m=\u001b[39m\u001b[38;5;241m1.\u001b[39m,\n\u001b[1;32m    167\u001b[0m                    randomize\u001b[38;5;241m=\u001b[39m\u001b[38;5;28;01mNone\u001b[39;00m,\n\u001b[1;32m    168\u001b[0m                    random_state\u001b[38;5;241m=\u001b[39m\u001b[38;5;28;01mNone\u001b[39;00m):\n\u001b[1;32m    169\u001b[0m \u001b[38;5;250m    \u001b[39m\u001b[38;5;124;03m\"\"\"Compute the partition of the graph nodes which maximises the modularity\u001b[39;00m\n\u001b[1;32m    170\u001b[0m \u001b[38;5;124;03m    (or try..) using the Louvain heuristices\u001b[39;00m\n\u001b[1;32m    171\u001b[0m \n\u001b[0;32m   (...)\u001b[0m\n\u001b[1;32m    247\u001b[0m \u001b[38;5;124;03m    >>> plt.show()\u001b[39;00m\n\u001b[1;32m    248\u001b[0m \u001b[38;5;124;03m    \"\"\"\u001b[39;00m\n\u001b[0;32m--> 249\u001b[0m     dendo \u001b[38;5;241m=\u001b[39m \u001b[43mgenerate_dendrogram\u001b[49m\u001b[43m(\u001b[49m\u001b[43mgraph\u001b[49m\u001b[43m,\u001b[49m\n\u001b[1;32m    250\u001b[0m \u001b[43m                                \u001b[49m\u001b[43mpartition\u001b[49m\u001b[43m,\u001b[49m\n\u001b[1;32m    251\u001b[0m \u001b[43m                                \u001b[49m\u001b[43mweight\u001b[49m\u001b[43m,\u001b[49m\n\u001b[1;32m    252\u001b[0m \u001b[43m                                \u001b[49m\u001b[43mresolution\u001b[49m\u001b[43m,\u001b[49m\n\u001b[1;32m    253\u001b[0m \u001b[43m                                \u001b[49m\u001b[43mrandomize\u001b[49m\u001b[43m,\u001b[49m\n\u001b[1;32m    254\u001b[0m \u001b[43m                                \u001b[49m\u001b[43mrandom_state\u001b[49m\u001b[43m)\u001b[49m\n\u001b[1;32m    255\u001b[0m     \u001b[38;5;28;01mreturn\u001b[39;00m partition_at_level(dendo, \u001b[38;5;28mlen\u001b[39m(dendo) \u001b[38;5;241m-\u001b[39m \u001b[38;5;241m1\u001b[39m)\n",
      "File \u001b[0;32m/usr/local/lib/python3.10/dist-packages/community/community_louvain.py:321\u001b[0m, in \u001b[0;36mgenerate_dendrogram\u001b[0;34m(graph, part_init, weight, resolution, randomize, random_state)\u001b[0m\n\u001b[1;32m    258\u001b[0m \u001b[38;5;28;01mdef\u001b[39;00m \u001b[38;5;21mgenerate_dendrogram\u001b[39m(graph,\n\u001b[1;32m    259\u001b[0m                         part_init\u001b[38;5;241m=\u001b[39m\u001b[38;5;28;01mNone\u001b[39;00m,\n\u001b[1;32m    260\u001b[0m                         weight\u001b[38;5;241m=\u001b[39m\u001b[38;5;124m'\u001b[39m\u001b[38;5;124mweight\u001b[39m\u001b[38;5;124m'\u001b[39m,\n\u001b[1;32m    261\u001b[0m                         resolution\u001b[38;5;241m=\u001b[39m\u001b[38;5;241m1.\u001b[39m,\n\u001b[1;32m    262\u001b[0m                         randomize\u001b[38;5;241m=\u001b[39m\u001b[38;5;28;01mNone\u001b[39;00m,\n\u001b[1;32m    263\u001b[0m                         random_state\u001b[38;5;241m=\u001b[39m\u001b[38;5;28;01mNone\u001b[39;00m):\n\u001b[1;32m    264\u001b[0m \u001b[38;5;250m    \u001b[39m\u001b[38;5;124;03m\"\"\"Find communities in the graph and return the associated dendrogram\u001b[39;00m\n\u001b[1;32m    265\u001b[0m \n\u001b[1;32m    266\u001b[0m \u001b[38;5;124;03m    A dendrogram is a tree and each level is a partition of the graph nodes.\u001b[39;00m\n\u001b[0;32m   (...)\u001b[0m\n\u001b[1;32m    319\u001b[0m \u001b[38;5;124;03m    :type weight:\u001b[39;00m\n\u001b[1;32m    320\u001b[0m \u001b[38;5;124;03m    \"\"\"\u001b[39;00m\n\u001b[0;32m--> 321\u001b[0m     \u001b[38;5;28;01mif\u001b[39;00m \u001b[43mgraph\u001b[49m\u001b[38;5;241;43m.\u001b[39;49m\u001b[43mis_directed\u001b[49m():\n\u001b[1;32m    322\u001b[0m         \u001b[38;5;28;01mraise\u001b[39;00m \u001b[38;5;167;01mTypeError\u001b[39;00m(\u001b[38;5;124m\"\u001b[39m\u001b[38;5;124mBad graph type, use only non directed graph\u001b[39m\u001b[38;5;124m\"\u001b[39m)\n\u001b[1;32m    324\u001b[0m     \u001b[38;5;66;03m# Properly handle random state, eventually remove old `randomize` parameter\u001b[39;00m\n\u001b[1;32m    325\u001b[0m     \u001b[38;5;66;03m# NOTE: when `randomize` is removed, delete code up to random_state = ...\u001b[39;00m\n",
      "\u001b[0;31mAttributeError\u001b[0m: 'list' object has no attribute 'is_directed'"
     ]
    }
   ],
   "source": [
    "from py2neo import Graph\n",
    "from community import best_partition\n",
    "\n",
    "# 连接到Neo4j数据库\n",
    "graph = Graph(\"bolt://198.18.31.159:7687\", auth=(\"neo4j\", \"123456\"))\n",
    "\n",
    "# 执行Cypher查询以获取图的边和节点信息\n",
    "cypher_query = \"\"\"\n",
    "MATCH (p:Process)-[r:create_process]->(c:Process)\n",
    "RETURN id(p) as source, id(c) as target, r.time as timestamp, r.uid as uid_weight\n",
    "\"\"\"\n",
    "result = graph.run(cypher_query)\n",
    "\n",
    "# 归一化时间戳\n",
    "timestamps = [record[\"timestamp\"] for record in result if record[\"timestamp\"] is not None]\n",
    "\n",
    "\n",
    "if timestamps:\n",
    "    max_timestamp = max(timestamps)\n",
    "    min_timestamp = min(timestamps)\n",
    "\n",
    "    edges = [\n",
    "        (\n",
    "            record[\"source\"],\n",
    "            record[\"target\"],\n",
    "            {\n",
    "                \"weight\": (record[\"timestamp\"] - min_timestamp) / (max_timestamp - min_timestamp) + int(record[\"uid_weight\"])\n",
    "            },\n",
    "        )\n",
    "        for record in result if record[\"timestamp\"] is not None\n",
    "    ]\n",
    "\n",
    "    print(edges)\n",
    "    # 使用community库中的Louvain算法执行社区检测\n",
    "    partition = best_partition(edges, weight=\"weight\")\n",
    "\n",
    "    # 输出社区信息\n",
    "    print(partition)\n",
    "else:\n",
    "    print(\"No valid timestamps found.\")\n"
   ]
  },
  {
   "cell_type": "code",
   "execution_count": null,
   "id": "f6e2326c-dfa7-43dd-8daa-58fdd36a68cf",
   "metadata": {},
   "outputs": [],
   "source": []
  }
 ],
 "metadata": {
  "kernelspec": {
   "display_name": "Python 3 (ipykernel)",
   "language": "python",
   "name": "python3"
  },
  "language_info": {
   "codemirror_mode": {
    "name": "ipython",
    "version": 3
   },
   "file_extension": ".py",
   "mimetype": "text/x-python",
   "name": "python",
   "nbconvert_exporter": "python",
   "pygments_lexer": "ipython3",
   "version": "3.10.7"
  }
 },
 "nbformat": 4,
 "nbformat_minor": 5
}
